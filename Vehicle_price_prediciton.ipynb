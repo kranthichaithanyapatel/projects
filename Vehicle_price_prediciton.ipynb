{
  "nbformat": 4,
  "nbformat_minor": 0,
  "metadata": {
    "colab": {
      "provenance": []
    },
    "kernelspec": {
      "name": "python3",
      "display_name": "Python 3"
    },
    "language_info": {
      "name": "python"
    }
  },
  "cells": [
    {
      "cell_type": "markdown",
      "source": [
        "**Vehicle Price Prediciton**"
      ],
      "metadata": {
        "id": "FKcJQsqsGi0S"
      }
    },
    {
      "cell_type": "code",
      "source": [
        "# prompt: google drive connection\n",
        "\n",
        "from google.colab import drive\n",
        "drive.mount('/content/drive')"
      ],
      "metadata": {
        "colab": {
          "base_uri": "https://localhost:8080/"
        },
        "id": "fNnM0NHR7JQx",
        "outputId": "daeb0129-61b5-49aa-a0a2-5e8fa61a3ae4"
      },
      "execution_count": 4,
      "outputs": [
        {
          "output_type": "stream",
          "name": "stdout",
          "text": [
            "Drive already mounted at /content/drive; to attempt to forcibly remount, call drive.mount(\"/content/drive\", force_remount=True).\n"
          ]
        }
      ]
    },
    {
      "cell_type": "code",
      "source": [
        "import pandas as pd\n",
        "import numpy as np\n",
        "import seaborn as sns\n",
        "import matplotlib.pyplot as plt\n",
        "from sklearn.model_selection import train_test_split\n",
        "from sklearn.compose import ColumnTransformer\n",
        "from sklearn.pipeline import Pipeline\n",
        "from sklearn.preprocessing import OneHotEncoder\n",
        "from sklearn.impute import SimpleImputer\n",
        "from sklearn.ensemble import RandomForestRegressor\n",
        "from sklearn.metrics import mean_squared_error, r2_score\n",
        "\n",
        "# Step 2: load the dataset\n",
        "# Upload the CSV to Colab and replace the path below with '/content/vehiclepriceprediction.csv'\n",
        "file_path = '/content/drive/MyDrive/vehiclepriceprediction.csv'\n",
        "df = pd.read_csv(file_path)\n",
        "\n",
        "# Step 3: drop rows with missing target (price) and choose features/target\n",
        "df = df[df['price'].notnull()]\n",
        "y = df['price']\n",
        "\n",
        "# It can be beneficial to drop very high‑cardinality text fields (name and description)\n",
        "X = df.drop(columns=['price', 'name', 'description'])\n",
        "\n",
        "# Step 4: define numeric and categorical columns\n",
        "numeric_features = ['year', 'cylinders', 'mileage', 'doors']\n",
        "categorical_features = [col for col in X.columns if col not in numeric_features]\n",
        "\n",
        "# Step 5: build preprocessing for each type of feature\n",
        "numeric_transformer = Pipeline(steps=[\n",
        "    ('imputer', SimpleImputer(strategy='median'))\n",
        "])\n",
        "\n",
        "categorical_transformer = Pipeline(steps=[\n",
        "    ('imputer', SimpleImputer(strategy='most_frequent')),\n",
        "    ('onehot', OneHotEncoder(handle_unknown='ignore'))\n",
        "])\n",
        "\n",
        "# Combine preprocessing into a single ColumnTransformer\n",
        "preprocessor = ColumnTransformer(\n",
        "    transformers=[\n",
        "        ('num', numeric_transformer, numeric_features),\n",
        "        ('cat', categorical_transformer, categorical_features)\n",
        "    ])\n",
        "\n",
        "# Step 6: define and build the regression model\n",
        "model = Pipeline(steps=[\n",
        "    ('preprocessor', preprocessor),\n",
        "    ('regressor', RandomForestRegressor(n_estimators=200, random_state=42))\n",
        "])\n",
        "\n",
        "# Step 7: split into train and test sets\n",
        "X_train, X_test, y_train, y_test = train_test_split(\n",
        "    X, y, test_size=0.20, random_state=42)\n",
        "\n",
        "# Step 8: train the model\n",
        "model.fit(X_train, y_train)\n",
        "\n",
        "# Step 9: make predictions on the test set\n",
        "y_pred = model.predict(X_test)\n",
        "\n",
        "# Step 10: evaluate the model\n",
        "rmse = np.sqrt(mean_squared_error(y_test, y_pred))\n",
        "r2 = r2_score(y_test, y_pred)\n",
        "print(f\"Root Mean Squared Error: {rmse:.2f}\")\n",
        "print(f\"R² Score: {r2:.4f}\")\n",
        "results = pd.DataFrame({\n",
        "    'Actual Price': y_test.iloc[:10].values,\n",
        "    'Predicted Price': y_pred[:10]\n",
        "})\n",
        "print(results)"
      ],
      "metadata": {
        "id": "ae3OjD1-7EYD"
      },
      "execution_count": null,
      "outputs": []
    },
    {
      "cell_type": "code",
      "source": [
        "import matplotlib.pyplot as plt\n",
        "import seaborn as sns\n",
        "\n",
        "# Set seaborn style\n",
        "sns.set(style='whitegrid', palette='muted')\n",
        "\n",
        "# 1. Distribution of vehicle prices\n",
        "plt.figure(figsize=(10, 5))\n",
        "sns.histplot(df['price'], bins=50, kde=True)\n",
        "plt.title('Distribution of Vehicle Prices')\n",
        "plt.xlabel('Price')\n",
        "plt.ylabel('Frequency')\n",
        "plt.show()\n",
        "\n",
        "# 2. Price vs Year (vehicle depreciation trend)\n",
        "plt.figure(figsize=(10, 5))\n",
        "sns.boxplot(data=df, x='year', y='price')\n",
        "plt.title('Vehicle Price vs Manufacturing Year')\n",
        "plt.xticks(rotation=45)\n",
        "plt.ylabel('Price (USD)')\n",
        "plt.show()\n",
        "\n",
        "# 3. Average price by make\n",
        "plt.figure(figsize=(12, 6))\n",
        "top_makes = df['make'].value_counts().nlargest(10).index\n",
        "sns.barplot(data=df[df['make'].isin(top_makes)], x='make', y='price', ci=None)\n",
        "plt.title('Average Price by Top 10 Makes')\n",
        "plt.ylabel('Average Price (USD)')\n",
        "plt.xticks(rotation=45)\n",
        "plt.show()\n",
        "\n",
        "# 4. Price vs Mileage\n",
        "plt.figure(figsize=(10, 5))\n",
        "sns.scatterplot(data=df, x='mileage', y='price', hue='fuel')\n",
        "plt.title('Price vs Mileage Colored by Fuel Type')\n",
        "plt.xlabel('Mileage')\n",
        "plt.ylabel('Price (USD)')\n",
        "plt.legend(bbox_to_anchor=(1.05, 1), loc='upper left')\n",
        "plt.show()\n",
        "\n",
        "# 5. Correlation heatmap (for numeric features)\n",
        "plt.figure(figsize=(8, 6))\n",
        "numeric_df = df[['price', 'year', 'cylinders', 'mileage', 'doors']].dropna()\n",
        "sns.heatmap(numeric_df.corr(), annot=True, cmap='coolwarm')\n",
        "plt.title('Correlation Heatmap')\n",
        "plt.show()\n"
      ],
      "metadata": {
        "id": "XYoPmUo17EL8"
      },
      "execution_count": null,
      "outputs": []
    }
  ]
}